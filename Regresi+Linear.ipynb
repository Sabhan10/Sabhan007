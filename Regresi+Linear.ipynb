{
  "nbformat": 4,
  "nbformat_minor": 0,
  "metadata": {
    "kernelspec": {
      "display_name": "Python 3",
      "language": "python",
      "name": "python3"
    },
    "language_info": {
      "codemirror_mode": {
        "name": "ipython",
        "version": 3
      },
      "file_extension": ".py",
      "mimetype": "text/x-python",
      "name": "python",
      "nbconvert_exporter": "python",
      "pygments_lexer": "ipython3",
      "version": "3.6.0"
    },
    "colab": {
      "name": "Regresi+Linear.ipynb",
      "provenance": [],
      "include_colab_link": true
    }
  },
  "cells": [
    {
      "cell_type": "markdown",
      "metadata": {
        "id": "view-in-github",
        "colab_type": "text"
      },
      "source": [
        "<a href=\"https://colab.research.google.com/github/Sabhan10/Sabhan007/blob/master/Regresi%2BLinear.ipynb\" target=\"_parent\"><img src=\"https://colab.research.google.com/assets/colab-badge.svg\" alt=\"Open In Colab\"/></a>"
      ]
    },
    {
      "cell_type": "markdown",
      "metadata": {
        "id": "Bu21K4J_Pscl",
        "colab_type": "text"
      },
      "source": [
        "### Regresi Linear\n",
        "\n",
        "Dataset yang dipakai diabetes dengan jumlah data 442 dan memiliki 10 feature"
      ]
    },
    {
      "cell_type": "code",
      "metadata": {
        "id": "5V15o54MR2Ay",
        "colab_type": "code",
        "colab": {}
      },
      "source": [
        ""
      ],
      "execution_count": null,
      "outputs": []
    },
    {
      "cell_type": "code",
      "metadata": {
        "id": "jZQLiOEfPscq",
        "colab_type": "code",
        "colab": {},
        "outputId": "ddf6185e-df0a-46c6-d604-a0016051750c"
      },
      "source": [
        "import numpy as np\n",
        "from sklearn import datasets\n",
        "from sklearn.lsinear_model import LinearRegression\n",
        "from sklearn.metrics import r2_score\n",
        " \n",
        " \n",
        "def linearRegression(x, y):\n",
        "    xt = np.transpose(x)\n",
        "    xinv = np.linalg.inv(np.dot(xt, x))\n",
        "    temp = np.dot(xinv, xt)\n",
        "    w = np.dot(temp, y)\n",
        "    return w\n",
        " \n",
        "def predict(w, data):\n",
        "    temp = w[1:] * data\n",
        "    temp1 = np.concatenate((w[0],temp), axis=None)\n",
        "    return sum(temp1)\n",
        " \n",
        "def predicts(w, datas):\n",
        "    jumlahBaris = datas.shape[0]\n",
        "    result = np.zeros(jumlahBaris)\n",
        "    for i in range(jumlahBaris):\n",
        "        result[i] = predict(w, datas[i])\n",
        "    return result\n",
        " \n",
        "def R2(target, predict):\n",
        "    sstot = sum((target - np.average(target)) ** 2)\n",
        "    ssres = sum((target - predict) ** 2)\n",
        "    result = 1 - (ssres/sstot)\n",
        "    return(result)\n",
        " \n",
        "def splitData(dataset, p=100):\n",
        "    if p >= 100:\n",
        "        dataTrain = dataset.data\n",
        "        target = dataset.target\n",
        "        dataTest = dataset.data\n",
        "        targetTest = dataset.target\n",
        "    else:\n",
        "        jumlahDataTrain = int((p * dataset.data.shape[0]) / 100)\n",
        "        # data train\n",
        "        dataTrain = dataset.data[:jumlahDataTrain]\n",
        "        target = dataset.target[:jumlahDataTrain]\n",
        " \n",
        "        # data test\n",
        "        dataTest = dataset.data[jumlahDataTrain:]\n",
        "        targeTest = dataset.target[jumlahDataTrain:]\n",
        " \n",
        "    return dataTrain, target, dataTest, targeTest\n",
        " \n",
        "# load data\n",
        "dataset = datasets.load_diabetes()\n",
        " \n",
        "# split Data\n",
        "dataTrain, target, dataTest, targeTest = splitData(dataset, p=80)\n",
        " \n",
        "# menambah matrix ones pada data train\n",
        "ones = np.ones((dataTrain.shape[0], 1))\n",
        "dataTrain1 = np.concatenate((ones, dataTrain), axis=1)\n",
        " \n",
        "# manual\n",
        "w = linearRegression(dataTrain1, target)\n",
        "predict = predicts(w, dataTest)\n",
        " \n",
        "# scikitLearn\n",
        "reg = LinearRegression().fit(dataTrain, target)\n",
        "predictSK = reg.predict(dataTest)\n",
        " \n",
        "# score manual\n",
        "print(r2_score(targeTest, predict))\n",
        "# score scikir\n",
        "print(r2_score(targeTest, predictSK))"
      ],
      "execution_count": null,
      "outputs": [
        {
          "output_type": "stream",
          "text": [
            "0.543757097618\n",
            "0.543757097618\n"
          ],
          "name": "stdout"
        }
      ]
    },
    {
      "cell_type": "markdown",
      "metadata": {
        "id": "pcEYg93RPsc_",
        "colab_type": "text"
      },
      "source": [
        "dari percobaan ini di dapat hasil pedict 0.543757097618"
      ]
    }
  ]
}